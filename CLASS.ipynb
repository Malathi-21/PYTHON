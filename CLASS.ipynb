{
 "cells": [
  {
   "cell_type": "code",
   "execution_count": 1,
   "metadata": {},
   "outputs": [],
   "source": [
    "class All_assignment():\n",
    "    def age():\n",
    "        age=int(input('enter your age:'))\n",
    "        print('Age:',age)\n",
    "        if age <18:\n",
    "            print('Children')\n",
    "        elif age <30:\n",
    "            print('Adult')\n",
    "        elif age <50:\n",
    "            print('citizen')\n",
    "        else:\n",
    "            print('Senior citizen')\n",
    "     \n",
    "    def pos_neg():\n",
    "        b=int(input('number:'))\n",
    "        print('Enter any number:',b)\n",
    "        if b >=0:\n",
    "            print('No is Positive')\n",
    "        else:\n",
    "            print('No is Negative')\n",
    "           \n",
    "    def div_5():\n",
    "        x=int(input('number:'))\n",
    "        print('Enter a number to check:',x)\n",
    "        if x%5 ==0:\n",
    "            print('No is divisible by 5')\n",
    "        else:\n",
    "            print('No is not divisible by 5')\n",
    "\n",
    "    def Subfields():\n",
    "            i=['Machine Learning','Neural Networks','Vision','Robotics','Speech Processing','Natural Language Processing']\n",
    "            print('Sub-fields in AI are:')\n",
    "            for j in i:\n",
    "                print(j)\n",
    "\n",
    "    def OddEven():\n",
    "        num=int(input('number:'))\n",
    "        print(f\"enter the number: {num}\")\n",
    "        if num%2==0:\n",
    "            print(f\"{num} is Even number\")\n",
    "        else:\n",
    "            print(f\"{num} is Odd number\")\n",
    "\n",
    "    def Elegible():\n",
    "        g=input('Your Gender:')\n",
    "        a=int(input('Your Age:'))\n",
    "        print('Your Gender:',g)\n",
    "        print('Your Age:',a)\n",
    "        if g=='Male':\n",
    "            if a <21:\n",
    "                print(\"NOT ELIGIBLE\")\n",
    "            else:\n",
    "                print('ELIGIBLE')\n",
    "        else:\n",
    "            if a >=18:\n",
    "                print(\"ELIGIBLE\")\n",
    "            else:\n",
    "                print('NOT ELIGIBLE')\n",
    "\n",
    "    def student():\n",
    "        lis=[98,87,95,95,93]\n",
    "        print(f'Subject1= {lis[0]}')\n",
    "        print(f'Subject2= {lis[1]}')\n",
    "        print(f'Subject3= {lis[2]}')\n",
    "        print(f'Subject4= {lis[3]}')\n",
    "        print(f'Subject5= {lis[4]}')\n",
    "        total=0\n",
    "        for i in lis:\n",
    "            total +=i\n",
    "        print('Total:',total)\n",
    "        Percentage =(total/500)*100\n",
    "        print('Percentage :',Percentage) \n",
    "\n",
    "    def triangle():\n",
    "        H=32\n",
    "        B=34\n",
    "        area=(H*B)/2\n",
    "        print('Height:',H)\n",
    "        print('Breadth:',B)\n",
    "        print('Area formula: (Height*Breadth)/2')\n",
    "        print('Area of Triangle:',area)\n",
    "        h1=2\n",
    "        h2=4\n",
    "        b=4\n",
    "        perimeter=(h1+h2+b)\n",
    "        print('Height1:',h1)\n",
    "        print('Height2:',h2)\n",
    "        print('Breadth:',b)\n",
    "        print('Perimeter formula: Height1+Height2+Breadth')\n",
    "        print('Perimeter of Triangle:',perimeter)    \n",
    "\n",
    "            "
   ]
  },
  {
   "cell_type": "code",
   "execution_count": 3,
   "metadata": {},
   "outputs": [
    {
     "name": "stdout",
     "output_type": "stream",
     "text": [
      "Age: 23\n",
      "Adult\n"
     ]
    }
   ],
   "source": [
    "All_assignment.age()"
   ]
  },
  {
   "cell_type": "code",
   "execution_count": 4,
   "metadata": {},
   "outputs": [
    {
     "name": "stdout",
     "output_type": "stream",
     "text": [
      "Enter any number: -4\n",
      "No is Negative\n"
     ]
    }
   ],
   "source": [
    "All_assignment.pos_neg()"
   ]
  },
  {
   "cell_type": "code",
   "execution_count": 5,
   "metadata": {},
   "outputs": [
    {
     "name": "stdout",
     "output_type": "stream",
     "text": [
      "Enter a number to check: 23\n",
      "No is not divisible by 5\n"
     ]
    }
   ],
   "source": [
    "All_assignment.div_5()"
   ]
  },
  {
   "cell_type": "code",
   "execution_count": 6,
   "metadata": {},
   "outputs": [
    {
     "name": "stdout",
     "output_type": "stream",
     "text": [
      "Sub-fields in AI are:\n",
      "Machine Learning\n",
      "Neural Networks\n",
      "Vision\n",
      "Robotics\n",
      "Speech Processing\n",
      "Natural Language Processing\n"
     ]
    }
   ],
   "source": [
    "All_assignment.Subfields()"
   ]
  },
  {
   "cell_type": "code",
   "execution_count": 7,
   "metadata": {},
   "outputs": [
    {
     "name": "stdout",
     "output_type": "stream",
     "text": [
      "enter the number: 5432\n",
      "5432 is Even number\n"
     ]
    }
   ],
   "source": [
    "All_assignment.OddEven()"
   ]
  },
  {
   "cell_type": "code",
   "execution_count": 8,
   "metadata": {},
   "outputs": [
    {
     "name": "stdout",
     "output_type": "stream",
     "text": [
      "Your Gender: Male\n",
      "Your Age: 28\n",
      "ELIGIBLE\n"
     ]
    }
   ],
   "source": [
    "All_assignment.Elegible()"
   ]
  },
  {
   "cell_type": "code",
   "execution_count": 9,
   "metadata": {},
   "outputs": [
    {
     "name": "stdout",
     "output_type": "stream",
     "text": [
      "Subject1= 98\n",
      "Subject2= 87\n",
      "Subject3= 95\n",
      "Subject4= 95\n",
      "Subject5= 93\n",
      "Total: 468\n",
      "Percentage : 93.60000000000001\n"
     ]
    }
   ],
   "source": [
    "All_assignment.student()"
   ]
  },
  {
   "cell_type": "code",
   "execution_count": 10,
   "metadata": {},
   "outputs": [
    {
     "name": "stdout",
     "output_type": "stream",
     "text": [
      "Height: 32\n",
      "Breadth: 34\n",
      "Area formula: (Height*Breadth)/2\n",
      "Area of Triangle: 544.0\n",
      "Height1: 2\n",
      "Height2: 4\n",
      "Breadth: 4\n",
      "Perimeter formula: Height1+Height2+Breadth\n",
      "Perimeter of Triangle: 10\n"
     ]
    }
   ],
   "source": [
    "All_assignment.triangle()"
   ]
  }
 ],
 "metadata": {
  "kernelspec": {
   "display_name": "Python 3",
   "language": "python",
   "name": "python3"
  },
  "language_info": {
   "codemirror_mode": {
    "name": "ipython",
    "version": 3
   },
   "file_extension": ".py",
   "mimetype": "text/x-python",
   "name": "python",
   "nbconvert_exporter": "python",
   "pygments_lexer": "ipython3",
   "version": "3.10.6"
  }
 },
 "nbformat": 4,
 "nbformat_minor": 2
}
