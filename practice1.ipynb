{
 "cells": [
  {
   "cell_type": "code",
   "execution_count": 1,
   "metadata": {},
   "outputs": [
    {
     "name": "stdout",
     "output_type": "stream",
     "text": [
      "Welcome to Assignment-1\n"
     ]
    }
   ],
   "source": [
    "str='Welcome to Assignment-1'\n",
    "print (str)"
   ]
  },
  {
   "cell_type": "code",
   "execution_count": 5,
   "metadata": {},
   "outputs": [
    {
     "name": "stdout",
     "output_type": "stream",
     "text": [
      "Num1= 10\n",
      "Num2= 30\n",
      "Add= 40\n"
     ]
    }
   ],
   "source": [
    "Num1= 10\n",
    "Num2= 30\n",
    "Add=Num1+Num2\n",
    "print('Num1=',Num1)\n",
    "print('Num2=',Num2)\n",
    "print('Add=',Add)"
   ]
  },
  {
   "cell_type": "code",
   "execution_count": 8,
   "metadata": {},
   "outputs": [
    {
     "name": "stdout",
     "output_type": "stream",
     "text": [
      "Enter the BMI Index: 34\n",
      "Obese\n"
     ]
    }
   ],
   "source": [
    "a=int(input('Enter the BMI Index:'))\n",
    "print('Enter the BMI Index:',a)\n",
    "if a <25:\n",
    "    print('Normal')\n",
    "elif a <30:\n",
    "    print('OverWeight')\n",
    "elif a <40:\n",
    "    print('Obese')\n",
    "else:\n",
    "    print('Morbidly Obese')\n",
    "\n"
   ]
  },
  {
   "cell_type": "code",
   "execution_count": 10,
   "metadata": {},
   "outputs": [
    {
     "name": "stdout",
     "output_type": "stream",
     "text": [
      "HOPE AI\n"
     ]
    }
   ],
   "source": [
    "i='HOPE AI'\n",
    "print(i)"
   ]
  },
  {
   "cell_type": "code",
   "execution_count": 18,
   "metadata": {},
   "outputs": [
    {
     "name": "stdout",
     "output_type": "stream",
     "text": [
      "Enter your institute name? : HOPE AI\n"
     ]
    }
   ],
   "source": [
    "j=\"HOPE AI\"\n",
    "print(f\"Enter your institute name? : {j}\")"
   ]
  },
  {
   "cell_type": "code",
   "execution_count": 19,
   "metadata": {},
   "outputs": [
    {
     "name": "stdout",
     "output_type": "stream",
     "text": [
      "Enter your name: Raj\n",
      "Enter your age: 15\n",
      "Enter your school name: Guru school\n",
      "Enter your degree: B.E CSE\n"
     ]
    }
   ],
   "source": [
    "name=\"Raj\"\n",
    "age=15\n",
    "school=\"Guru school\"\n",
    "degree=\"B.E CSE\"\n",
    "print(f\"Enter your name: {name}\")\n",
    "print(f\"Enter your age: {age}\")\n",
    "print(f\"Enter your school name: {school}\")\n",
    "print(f\"Enter your degree: {degree}\")"
   ]
  },
  {
   "cell_type": "code",
   "execution_count": 22,
   "metadata": {},
   "outputs": [
    {
     "name": "stdout",
     "output_type": "stream",
     "text": [
      "a= 43\n",
      "b= 34\n",
      "add= 77\n"
     ]
    }
   ],
   "source": [
    "a= 43\n",
    "b= 34\n",
    "add=a+b\n",
    "print('a=', a)\n",
    "print('b=',b)\n",
    "print('add=',add)\n"
   ]
  },
  {
   "cell_type": "code",
   "execution_count": 23,
   "metadata": {},
   "outputs": [
    {
     "name": "stdout",
     "output_type": "stream",
     "text": [
      "a= 43\n",
      "b= 34\n",
      "sub= 9\n"
     ]
    }
   ],
   "source": [
    "a= 43\n",
    "b= 34\n",
    "sub=a-b\n",
    "print('a=', a)\n",
    "print('b=',b)\n",
    "print('sub=',sub)"
   ]
  },
  {
   "cell_type": "code",
   "execution_count": 24,
   "metadata": {},
   "outputs": [
    {
     "name": "stdout",
     "output_type": "stream",
     "text": [
      "a= 63\n",
      "b= 97\n",
      "Mul= 6111\n"
     ]
    }
   ],
   "source": [
    "a= 63\n",
    "b= 97\n",
    "Mul=a*b\n",
    "print('a=', a)\n",
    "print('b=',b)\n",
    "print('Mul=',Mul)"
   ]
  },
  {
   "cell_type": "code",
   "execution_count": 26,
   "metadata": {},
   "outputs": [
    {
     "name": "stdout",
     "output_type": "stream",
     "text": [
      "a= 76\n",
      "b= 31\n",
      "Float Div= 2.4516129032258065\n"
     ]
    }
   ],
   "source": [
    "a= 76\n",
    "b= 31\n",
    "div=a/b\n",
    "print('a=', a)\n",
    "print('b=',b)\n",
    "print('Float Div=',div)"
   ]
  },
  {
   "cell_type": "code",
   "execution_count": 28,
   "metadata": {},
   "outputs": [
    {
     "name": "stdout",
     "output_type": "stream",
     "text": [
      "a= 76\n",
      "b= 31\n",
      "Floor Div= 2\n"
     ]
    }
   ],
   "source": [
    "a= 76\n",
    "b= 31\n",
    "div=a//b\n",
    "print('a=', a)\n",
    "print('b=',b)\n",
    "print('Floor Div=',div)"
   ]
  },
  {
   "cell_type": "code",
   "execution_count": 29,
   "metadata": {},
   "outputs": [
    {
     "name": "stdout",
     "output_type": "stream",
     "text": [
      "a= 76\n",
      "b= 31\n",
      "Modulo= 14\n"
     ]
    }
   ],
   "source": [
    "a= 76\n",
    "b= 31\n",
    "div=a%b\n",
    "print('a=', a)\n",
    "print('b=',b)\n",
    "print('Modulo=',div)"
   ]
  },
  {
   "cell_type": "code",
   "execution_count": 30,
   "metadata": {},
   "outputs": [
    {
     "name": "stdout",
     "output_type": "stream",
     "text": [
      "a= 4\n",
      "b= 4\n",
      "Power= 256\n"
     ]
    }
   ],
   "source": [
    "a= 4\n",
    "b= 4\n",
    "p=a**b\n",
    "print('a=', a)\n",
    "print('b=',b)\n",
    "print('Power=',p)"
   ]
  },
  {
   "cell_type": "code",
   "execution_count": 31,
   "metadata": {},
   "outputs": [
    {
     "name": "stdout",
     "output_type": "stream",
     "text": [
      "0\n",
      "1\n",
      "2\n",
      "3\n",
      "4\n",
      "5\n",
      "6\n",
      "7\n",
      "8\n",
      "9\n",
      "10\n",
      "11\n",
      "12\n",
      "13\n",
      "14\n",
      "15\n",
      "16\n",
      "17\n",
      "18\n",
      "19\n"
     ]
    }
   ],
   "source": [
    "for i in range(20):\n",
    "    print(i)"
   ]
  },
  {
   "cell_type": "code",
   "execution_count": 34,
   "metadata": {},
   "outputs": [
    {
     "name": "stdout",
     "output_type": "stream",
     "text": [
      "10 11 12 13 14 15 16 17 18 19 "
     ]
    }
   ],
   "source": [
    "for i in range(10,20):\n",
    "    print(i, end =' ')"
   ]
  },
  {
   "cell_type": "code",
   "execution_count": 39,
   "metadata": {},
   "outputs": [
    {
     "name": "stdout",
     "output_type": "stream",
     "text": [
      "[10, 20, 14, 55, 43, 87, 76]\n",
      "Number of item in the List2:\n",
      " 7\n"
     ]
    }
   ],
   "source": [
    "i=[10, 20, 14, 55, 43, 87, 76]\n",
    "print(i)\n",
    "print('Number of item in the List2:\\n',len(i))"
   ]
  },
  {
   "cell_type": "code",
   "execution_count": 41,
   "metadata": {},
   "outputs": [
    {
     "name": "stdout",
     "output_type": "stream",
     "text": [
      "Value: 10\n",
      "Correct\n"
     ]
    }
   ],
   "source": [
    "value=int(input('enter the value:'))\n",
    "print('Value:',value)\n",
    "if value==10:\n",
    "    print('Correct')\n"
   ]
  },
  {
   "cell_type": "code",
   "execution_count": 45,
   "metadata": {},
   "outputs": [
    {
     "name": "stdout",
     "output_type": "stream",
     "text": [
      "Enter the password: HOPE@123\n",
      "Your password is correct\n"
     ]
    }
   ],
   "source": [
    "value=input('pswd:')\n",
    "print('Enter the password:',value)\n",
    "pswd = 'HOPE@123'\n",
    "if value==pswd:\n",
    "    print('Your password is correct')\n",
    "else:\n",
    "    print('Your password is incorrect')"
   ]
  },
  {
   "cell_type": "code",
   "execution_count": 61,
   "metadata": {},
   "outputs": [
    {
     "name": "stdout",
     "output_type": "stream",
     "text": [
      "Age: 20\n",
      "Adult\n"
     ]
    }
   ],
   "source": [
    "age=int(input('enter your age:'))\n",
    "print('Age:',age)\n",
    "if age <18:\n",
    "    print('Children')\n",
    "elif age <30:\n",
    "    print('Adult')\n",
    "elif age <50:\n",
    "    print('citizen')\n",
    "else:\n",
    "    print('Senior citizen')"
   ]
  },
  {
   "cell_type": "code",
   "execution_count": 65,
   "metadata": {},
   "outputs": [
    {
     "name": "stdout",
     "output_type": "stream",
     "text": [
      "Enter any number: 1\n",
      "No is Positive\n"
     ]
    }
   ],
   "source": [
    "b=int(input('number:'))\n",
    "print('Enter any number:',b)\n",
    "if b >=0:\n",
    "    print('No is Positive')\n",
    "else:\n",
    "    print('No is Negative')"
   ]
  },
  {
   "cell_type": "code",
   "execution_count": 69,
   "metadata": {},
   "outputs": [
    {
     "name": "stdout",
     "output_type": "stream",
     "text": [
      "Enter a number to check: 22\n",
      "No is not divisible by 5\n"
     ]
    }
   ],
   "source": [
    "x=int(input('number:'))\n",
    "print('Enter a number to check:',x)\n",
    "if x%5 ==0:\n",
    "    print('No is divisible by 5')\n",
    "else:\n",
    "    print('No is not divisible by 5')"
   ]
  },
  {
   "cell_type": "code",
   "execution_count": 99,
   "metadata": {},
   "outputs": [],
   "source": [
    "class SubfieldsInAI():\n",
    "    def Subfields():\n",
    "        i=['Machine Learning','Neural Networks','Vision','Robotics','Speech Processing','Natural Language Processing']\n",
    "        print('Sub-fields in AI are:')\n",
    "        for j in i:\n",
    "            print(j)\n",
    "       \n"
   ]
  },
  {
   "cell_type": "code",
   "execution_count": 100,
   "metadata": {},
   "outputs": [
    {
     "name": "stdout",
     "output_type": "stream",
     "text": [
      "Sub-fields in AI are:\n",
      "Machine Learning\n",
      "Neural Networks\n",
      "Vision\n",
      "Robotics\n",
      "Speech Processing\n",
      "Natural Language Processing\n"
     ]
    }
   ],
   "source": [
    "SubfieldsInAI.Subfields()"
   ]
  },
  {
   "cell_type": "code",
   "execution_count": 102,
   "metadata": {},
   "outputs": [],
   "source": [
    "def OddEven():\n",
    "    num=int(input('number:'))\n",
    "    print(f\"enter the number: {num}\")\n",
    "    if num%2==0:\n",
    "        print(f\"{num} is Even number\")\n",
    "    else:\n",
    "        print(f\"{num} is Odd number\")\n"
   ]
  },
  {
   "cell_type": "code",
   "execution_count": 104,
   "metadata": {},
   "outputs": [
    {
     "name": "stdout",
     "output_type": "stream",
     "text": [
      "enter the number: 52452\n",
      "52452 is Even number\n"
     ]
    }
   ],
   "source": [
    "OddEven()"
   ]
  },
  {
   "cell_type": "code",
   "execution_count": 128,
   "metadata": {},
   "outputs": [],
   "source": [
    "def Elegible():\n",
    "    g=input('Your Gender:')\n",
    "    a=int(input('Your Age:'))\n",
    "    print('Your Gender:',g)\n",
    "    print('Your Age:',a)\n",
    "    if g=='Male':\n",
    "        if a <21:\n",
    "            print(\"NOT ELIGIBLE\")\n",
    "        else:\n",
    "            print('ELIGIBLE')\n",
    "    else:\n",
    "        if a >=18:\n",
    "            print(\"ELIGIBLE\")\n",
    "        else:\n",
    "            print('NOT ELIGIBLE')"
   ]
  },
  {
   "cell_type": "code",
   "execution_count": 129,
   "metadata": {},
   "outputs": [
    {
     "name": "stdout",
     "output_type": "stream",
     "text": [
      "Your Gender: Male\n",
      "Your Age: 20\n",
      "NOT ELIGIBLE\n"
     ]
    }
   ],
   "source": [
    "Elegible()"
   ]
  },
  {
   "cell_type": "code",
   "execution_count": 133,
   "metadata": {},
   "outputs": [
    {
     "name": "stdout",
     "output_type": "stream",
     "text": [
      "Subject1= 98\n",
      "Subject2= 87\n",
      "Subject3= 95\n",
      "Subject4= 95\n",
      "Subject5= 93\n",
      "Total: 468\n",
      "Percentage : 93.60000000000001\n"
     ]
    }
   ],
   "source": [
    "\n",
    "lis=[98,87,95,95,93]\n",
    "print(f'Subject1= {lis[0]}')\n",
    "print(f'Subject2= {lis[1]}')\n",
    "print(f'Subject3= {lis[2]}')\n",
    "print(f'Subject4= {lis[3]}')\n",
    "print(f'Subject5= {lis[4]}')\n",
    "total=0\n",
    "for i in lis:\n",
    "    total +=i\n",
    "print('Total:',total)\n",
    "Percentage =(total/500)*100\n",
    "print('Percentage :',Percentage)\n",
    "\n",
    "\n"
   ]
  },
  {
   "cell_type": "code",
   "execution_count": 138,
   "metadata": {},
   "outputs": [],
   "source": [
    "\n",
    "def triangle():\n",
    "    H=32\n",
    "    B=34\n",
    "    area=(H*B)/2\n",
    "    print('Height:',H)\n",
    "    print('Breadth:',B)\n",
    "    print('Area formula: (Height*Breadth)/2')\n",
    "    print('Area of Triangle:',area)\n",
    "    h1=2\n",
    "    h2=4\n",
    "    b=4\n",
    "    perimeter=(h1+h2+b)\n",
    "    print('Height1:',h1)\n",
    "    print('Height2:',h2)\n",
    "    print('Breadth:',b)\n",
    "    print('Perimeter formula: Height1+Height2+Breadth')\n",
    "    print('Perimeter of Triangle:',perimeter)\n",
    "\n",
    "\n",
    "\n"
   ]
  },
  {
   "cell_type": "code",
   "execution_count": 139,
   "metadata": {},
   "outputs": [
    {
     "name": "stdout",
     "output_type": "stream",
     "text": [
      "Height: 32\n",
      "Breadth: 34\n",
      "Area formula: (Height*Breadth)/2\n",
      "Area of Triangle: 544.0\n",
      "Height1: 2\n",
      "Height2: 4\n",
      "Breadth: 4\n",
      "Perimeter formula: Height1+Height2+Breadth\n",
      "Perimeter of Triangle: 10\n"
     ]
    }
   ],
   "source": [
    "triangle()"
   ]
  },
  {
   "cell_type": "code",
   "execution_count": null,
   "metadata": {},
   "outputs": [],
   "source": [
    "\n",
    "    "
   ]
  }
 ],
 "metadata": {
  "kernelspec": {
   "display_name": "Python 3",
   "language": "python",
   "name": "python3"
  },
  "language_info": {
   "codemirror_mode": {
    "name": "ipython",
    "version": 3
   },
   "file_extension": ".py",
   "mimetype": "text/x-python",
   "name": "python",
   "nbconvert_exporter": "python",
   "pygments_lexer": "ipython3",
   "version": "3.10.6"
  }
 },
 "nbformat": 4,
 "nbformat_minor": 2
}
